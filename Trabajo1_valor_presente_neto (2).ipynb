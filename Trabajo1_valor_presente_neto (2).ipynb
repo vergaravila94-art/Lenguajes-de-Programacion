{
  "nbformat": 4,
  "nbformat_minor": 0,
  "metadata": {
    "colab": {
      "provenance": []
    },
    "kernelspec": {
      "name": "python3",
      "display_name": "Python 3"
    },
    "language_info": {
      "name": "python"
    }
  },
  "cells": [
    {
      "cell_type": "code",
      "execution_count": null,
      "metadata": {
        "id": "1V1ygcW1eVLY"
      },
      "outputs": [],
      "source": []
    },
    {
      "cell_type": "markdown",
      "source": [
        "# Valor Presente Neto (VPN)\n",
        "El valor presente neto o  VPN es una herramienta que permite determinar el valor actual de los flujos de caja futuros estimados en un proyecto, descontando una tasa que representa costos financieros, impuestos, entre otros conceptos, permitiendo traer al tiempo presente el valor neto de cada flujo proyectado para poder evaluar su rentabilidad al compararse con la inversión inicial.\n",
        "\n",
        "##Formula del Valor Presente Neto (VPN)\n",
        "\n",
        "La formula del VPN se expresa de la siguiente manera:\n",
        "\n",
        "\\[\n",
        "$$\n",
        "VPN = \\sum_{t=0}^{n} \\frac{C_t}{(1+r)^t} - C_0\n",
        "$$\n",
        "\n",
        "\\]\n",
        "\n",
        "Donde\n",
        "- $F_t$  es el flujo de caja en el periodo $t$\n",
        "- $r$ es la tasa de descuento.\n",
        "- $C_0$ es la inversion incial.\n",
        "\n",
        "## Enlace Útil\n",
        "\n",
        "Para obtener más informacion sobre el Valor Presente Neto, puedes consultar el siguiente [enlace](https://www.gerencie.com/valor-presente-neto.html)"
      ],
      "metadata": {
        "id": "yue-eXw3i9N0"
      }
    },
    {
      "cell_type": "code",
      "source": [],
      "metadata": {
        "id": "eFTrAoewnIZJ"
      },
      "execution_count": null,
      "outputs": []
    },
    {
      "cell_type": "markdown",
      "source": [
        "##Descripcion de proyecto:\n",
        "\n",
        "Supongamos que la empresa está considerando un proyecto con:\n",
        "\n",
        "- **Inversion inicial:** $10,000\n",
        "\n",
        "- **Flujos de caja esperados:** $3,000 en cada uno de los proximos 3 años\n",
        "- **Tasa de descuento:** 5%\n",
        "\n",
        "\n"
      ],
      "metadata": {
        "id": "PP3T-z9uA3NC"
      }
    },
    {
      "cell_type": "code",
      "source": [],
      "metadata": {
        "id": "zsGdeEJlFVGk"
      },
      "execution_count": null,
      "outputs": []
    },
    {
      "cell_type": "code",
      "source": [
        "inversion_inicial = 10000\n",
        "flujo_ano_1 = 3000\n",
        "flujo_ano_2 = 3000\n",
        "flujo_ano_3 = 3000\n",
        "\n",
        "tasa_descuento = 0.05"
      ],
      "metadata": {
        "id": "v52N3AnzfPbu"
      },
      "execution_count": null,
      "outputs": []
    },
    {
      "cell_type": "code",
      "source": [
        "vpn = (flujo_ano_1 / (1 + tasa_descuento)**1) + \\\n",
        "      (flujo_ano_2 / (1 + tasa_descuento)**2) + \\\n",
        "      (flujo_ano_3 / (1 + tasa_descuento)**3) - inversion_inicial\n",
        "print(\"El valor Presente Neto (VPN) es:\", vpn)"
      ],
      "metadata": {
        "colab": {
          "base_uri": "https://localhost:8080/"
        },
        "id": "f_CT9tRbhYbs",
        "outputId": "dfda4a5a-5709-408f-bb03-f9de412c02bf"
      },
      "execution_count": null,
      "outputs": [
        {
          "output_type": "stream",
          "name": "stdout",
          "text": [
            "El valor Presente Neto (VPN) es: -1830.2559118885656\n"
          ]
        }
      ]
    },
    {
      "cell_type": "code",
      "source": [
        "if vpn > 0:\n",
        "  print(\"El proyecto es viable, ya que el VPN es positivo.\")\n",
        "else:\n",
        "  print(\"El proyecto no es viable, ya que el VPN es negativo.\")"
      ],
      "metadata": {
        "colab": {
          "base_uri": "https://localhost:8080/"
        },
        "id": "Iamg6-jynUnY",
        "outputId": "e7c107e8-1904-4151-d520-78d2fe5e9f4b"
      },
      "execution_count": null,
      "outputs": [
        {
          "output_type": "stream",
          "name": "stdout",
          "text": [
            "El proyecto no es viable, ya que el VPN es negativo.\n"
          ]
        }
      ]
    },
    {
      "cell_type": "code",
      "source": [],
      "metadata": {
        "id": "0DrUlQP_mwnq"
      },
      "execution_count": null,
      "outputs": []
    },
    {
      "cell_type": "code",
      "source": [],
      "metadata": {
        "id": "CHSmBiMsghPb"
      },
      "execution_count": null,
      "outputs": []
    },
    {
      "cell_type": "markdown",
      "source": [],
      "metadata": {
        "id": "IfxgYKaEgpKn"
      }
    }
  ]
}